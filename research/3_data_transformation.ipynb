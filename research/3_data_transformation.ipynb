{
 "cells": [
  {
   "cell_type": "code",
   "execution_count": 1,
   "id": "fb5880a5",
   "metadata": {},
   "outputs": [],
   "source": [
    "import os "
   ]
  },
  {
   "cell_type": "code",
   "execution_count": 2,
   "id": "38153415",
   "metadata": {},
   "outputs": [
    {
     "data": {
      "text/plain": [
       "'c:\\\\Users\\\\Rizwan\\\\Desktop\\\\Courses\\\\E3E DS Project\\\\Data-Science-Project\\\\research'"
      ]
     },
     "execution_count": 2,
     "metadata": {},
     "output_type": "execute_result"
    }
   ],
   "source": [
    "%pwd"
   ]
  },
  {
   "cell_type": "code",
   "execution_count": 3,
   "id": "65a97db4",
   "metadata": {},
   "outputs": [
    {
     "data": {
      "text/plain": [
       "'c:\\\\Users\\\\Rizwan\\\\Desktop\\\\Courses\\\\E3E DS Project\\\\Data-Science-Project'"
      ]
     },
     "execution_count": 3,
     "metadata": {},
     "output_type": "execute_result"
    }
   ],
   "source": [
    "os.chdir(\"../\")\n",
    "%pwd"
   ]
  },
  {
   "cell_type": "code",
   "execution_count": 4,
   "id": "ab7abb0e",
   "metadata": {},
   "outputs": [],
   "source": [
    "from dataclasses import dataclass\n",
    "from pathlib import Path\n",
    "\n",
    "@dataclass\n",
    "class DataTransformationConfig:\n",
    "    root_dir: Path \n",
    "    data_path: Path"
   ]
  },
  {
   "cell_type": "code",
   "execution_count": 5,
   "id": "11cead6f",
   "metadata": {},
   "outputs": [],
   "source": [
    "from src.DataScienceProject.constants import *\n",
    "from src.DataScienceProject.utils.common import read_yaml, create_directories"
   ]
  },
  {
   "cell_type": "code",
   "execution_count": null,
   "id": "c7c46932",
   "metadata": {},
   "outputs": [],
   "source": [
    "class ConfigurationManager:\n",
    "    def __init__(self, \n",
    "                 config_filepath = CONFIG_FILE_PATH,\n",
    "                 params_filepath = PARAMS_FILE_PATH,\n",
    "                 schema_filepath = SCHEMA_FILE_PATH):\n",
    "        self.config = read_yaml(config_filepath)\n",
    "        self.params = read_yaml(params_filepath)\n",
    "        self.schema = read_yaml(schema_filepath)\n",
    "        create_directories([self.config.artifacts_root])\n",
    "\n",
    "\n",
    "    def get_data_transformation_config(self) -> DataTransformationConfig:\n",
    "        config = self.config.data_transformation\n",
    "        create_directories([config.root_dir])\n",
    "\n",
    "        data_transformation_config = DataTransformationConfig(\n",
    "            root_dir = config.root_dir, #comes from config.yaml\n",
    "            data_path= config.data_path #comes from config.yaml\n",
    "        )\n",
    "\n",
    "        return data_transformation_config\n"
   ]
  },
  {
   "cell_type": "code",
   "execution_count": 8,
   "id": "9036b488",
   "metadata": {},
   "outputs": [],
   "source": [
    "import os\n",
    "from src.DataScienceProject import logger\n",
    "from sklearn.model_selection import train_test_split\n",
    "import pandas as pd"
   ]
  },
  {
   "cell_type": "code",
   "execution_count": 9,
   "id": "8e9ea449",
   "metadata": {},
   "outputs": [],
   "source": [
    "# component to validate the data\n",
    "class DataTransformation:\n",
    "    def __init__(self, config: DataTransformationConfig):\n",
    "        self.config = config\n",
    "\n",
    "\n",
    "    def train_test_splitting(self):\n",
    "        data = pd.read_csv(self.config.data_path)\n",
    "\n",
    "        # splitting the data into train and test sets\n",
    "        train_set, test_set = train_test_split(data, test_size=0.2, random_state=42)\n",
    "\n",
    "        train_set.to_csv(os.path.join(self.config.root_dir, 'train_set.csv'), index=False)\n",
    "        test_set.to_csv(os.path.join(self.config.root_dir, 'test_set.csv'), index=False)\n",
    "\n",
    "        logger.info(f\"Splited data into training and testing sets\")\n",
    "        logger.info(f\"Training set shape: {train_set.shape}\")\n",
    "        logger.info(f\"Testing set shape: {test_set.shape}\")\n",
    "\n",
    "        print(f\"Training set shape: {train_set.shape}\")\n",
    "        print(f\"Testing set shape: {test_set.shape}\")\n",
    "\n",
    "       "
   ]
  },
  {
   "cell_type": "code",
   "execution_count": 14,
   "id": "18dec2ec",
   "metadata": {},
   "outputs": [
    {
     "name": "stdout",
     "output_type": "stream",
     "text": [
      "[2025-06-28 01:21:35,603: INFO: common: YAML file loaded successfully from config\\config.yaml]\n",
      "[2025-06-28 01:21:35,606: INFO: common: YAML file loaded successfully from params.yaml]\n",
      "[2025-06-28 01:21:35,611: INFO: common: YAML file loaded successfully from schema.yaml]\n",
      "[2025-06-28 01:21:35,613: INFO: common: Created directory: artifacts]\n",
      "[2025-06-28 01:21:35,615: INFO: common: Created directory: artifacts/data_transformation]\n",
      "[2025-06-28 01:21:35,674: INFO: 4020386465: Splited data into training and testing sets]\n",
      "[2025-06-28 01:21:35,675: INFO: 4020386465: Training set shape: (1279, 12)]\n",
      "[2025-06-28 01:21:35,676: INFO: 4020386465: Testing set shape: (320, 12)]\n",
      "Training set shape: (1279, 12)\n",
      "Testing set shape: (320, 12)\n"
     ]
    }
   ],
   "source": [
    "try:\n",
    "    config = ConfigurationManager()\n",
    "    data_transformation_config = config.get_data_transformation_config()\n",
    "    data_transformation = DataTransformation(config=data_transformation_config)\n",
    "    data_transformation.train_test_splitting()\n",
    "except Exception as e:\n",
    "    raise e"
   ]
  },
  {
   "cell_type": "code",
   "execution_count": 13,
   "id": "7a46e835",
   "metadata": {},
   "outputs": [
    {
     "name": "stdout",
     "output_type": "stream",
     "text": [
      "True\n",
      "\n"
     ]
    }
   ],
   "source": [
    "\n",
    "\n",
    "        \n",
    "with open(Path(\"artifacts/data_validation/status.txt\"),'r') as f:\n",
    "    status = f.read().split(\" \")[-1]\n",
    "    print(status)\n"
   ]
  },
  {
   "cell_type": "code",
   "execution_count": null,
   "id": "d7cd1345",
   "metadata": {},
   "outputs": [],
   "source": []
  },
  {
   "cell_type": "code",
   "execution_count": null,
   "id": "9bd56004",
   "metadata": {},
   "outputs": [],
   "source": []
  }
 ],
 "metadata": {
  "kernelspec": {
   "display_name": "Python 3",
   "language": "python",
   "name": "python3"
  },
  "language_info": {
   "codemirror_mode": {
    "name": "ipython",
    "version": 3
   },
   "file_extension": ".py",
   "mimetype": "text/x-python",
   "name": "python",
   "nbconvert_exporter": "python",
   "pygments_lexer": "ipython3",
   "version": "3.10.0"
  }
 },
 "nbformat": 4,
 "nbformat_minor": 5
}
